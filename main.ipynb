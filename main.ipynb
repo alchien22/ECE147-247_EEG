{
 "cells": [
  {
   "cell_type": "code",
   "execution_count": 1,
   "metadata": {},
   "outputs": [],
   "source": [
    "import torch\n",
    "from utils.preprocessing import *\n",
    "from utils.loops import *\n",
    "from models.vanilla_cnn import *\n",
    "from models.cnn_attention import *\n",
    "from models.cnn_gru import *\n",
    "from models.cnn_lstm import *\n",
    "\n",
    "%load_ext autoreload\n",
    "%autoreload 2"
   ]
  },
  {
   "cell_type": "code",
   "execution_count": 2,
   "metadata": {},
   "outputs": [],
   "source": [
    "## Set device\n",
    "\n",
    "# if torch.backends.mps.is_available():\n",
    "#     device = torch.device(\"mps\")\n",
    "# else:\n",
    "#     device = torch.device('cpu')\n",
    "# print(device)\n",
    "\n",
    "## When testing, use cpu\n",
    "device = torch.device('cpu')"
   ]
  },
  {
   "cell_type": "code",
   "execution_count": 3,
   "metadata": {},
   "outputs": [
    {
     "name": "stdout",
     "output_type": "stream",
     "text": [
      "Shape of training set: (10035, 22, 400)\n",
      "Shape of validation set: (1000, 22, 400)\n",
      "Shape of training labels: (10035,)\n",
      "Shape of validation labels: (1000,)\n",
      "Shape of training labels after categorical conversion: (10035, 4)\n",
      "Shape of validation labels after categorical conversion: (1000, 4)\n",
      "Shape of test labels after categorical conversion: (443, 4)\n"
     ]
    }
   ],
   "source": [
    "## Instantiate Dataloaders\n",
    "train_dataloader, val_dataloader, test_dataloader = load_data(64)"
   ]
  },
  {
   "cell_type": "code",
   "execution_count": 9,
   "metadata": {},
   "outputs": [],
   "source": [
    "## Instantiate models and load their weights\n",
    "\n",
    "# cnn = CNN(kernel_size=11, pad=5)\n",
    "# checkpoint = torch.load('weights/cnn_weights_69.pth')\n",
    "# cnn.load_state_dict(checkpoint['model_state_dict'])\n",
    "# cnn = cnn.to(device)\n",
    "\n",
    "# cnn2 = CNN(kernel_size=13, pad=6)\n",
    "# checkpoint = torch.load('weights/cnn_weights_70.pth')\n",
    "# cnn2.load_state_dict(checkpoint['model_state_dict'])\n",
    "# cnn2 = cnn2.to(device)\n",
    "\n",
    "# cnn_attention = CNN_Attention_Model()\n",
    "# checkpoint = torch.load('weights/cnn_attention_weights.pth')\n",
    "# cnn_attention.load_state_dict(checkpoint['model_state_dict'])\n",
    "# cnn_attention = cnn_attention.to(device)\n",
    "\n",
    "gru = GRU(input_dim=22, conv_dims=[32, 64, 128], hidden_dim=256, num_layers=1)\n",
    "checkpoint = torch.load('weights/weights_all_subjects/gru_epoch100.pt', map_location=torch.device('cpu'))\n",
    "gru.load_state_dict(checkpoint['model_state_dict'])\n",
    "gru = gru.to(device)\n",
    "\n",
    "# lstm = LSTM(input_dim=22, conv_dims=[16, 32, 48, 64], hidden_dim=64, num_layers=1)\n",
    "# checkpoint = torch.load('weights/lstm_epoch200.pt', map_location='cpu')\n",
    "# lstm.load_state_dict(checkpoint['model_state_dict'])\n",
    "# lstm = lstm.to(device)\n",
    "\n",
    "# models = [cnn, cnn2, cnn_attention, gru, lstm]\n",
    "models= [gru]"
   ]
  },
  {
   "cell_type": "code",
   "execution_count": 10,
   "metadata": {},
   "outputs": [
    {
     "name": "stdout",
     "output_type": "stream",
     "text": [
      "Test Accuracy: 0.5553047404063205\n"
     ]
    }
   ],
   "source": [
    "## Evaluate ensembled models on test set\n",
    "# Evaluation criterion: majority vote\n",
    "\n",
    "accuracy = test(models, test_dataloader, device)\n",
    "print('Test Accuracy:', accuracy)"
   ]
  }
 ],
 "metadata": {
  "kernelspec": {
   "display_name": "env",
   "language": "python",
   "name": "python3"
  },
  "language_info": {
   "codemirror_mode": {
    "name": "ipython",
    "version": 3
   },
   "file_extension": ".py",
   "mimetype": "text/x-python",
   "name": "python",
   "nbconvert_exporter": "python",
   "pygments_lexer": "ipython3",
   "version": "3.9.6"
  }
 },
 "nbformat": 4,
 "nbformat_minor": 2
}
