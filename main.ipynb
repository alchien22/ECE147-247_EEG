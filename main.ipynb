{
 "cells": [
  {
   "cell_type": "code",
   "execution_count": 14,
   "metadata": {},
   "outputs": [
    {
     "name": "stdout",
     "output_type": "stream",
     "text": [
      "The autoreload extension is already loaded. To reload it, use:\n",
      "  %reload_ext autoreload\n"
     ]
    }
   ],
   "source": [
    "import torch\n",
    "from utils.preprocessing import *\n",
    "from utils.loops import *\n",
    "from models.vanilla_cnn import *\n",
    "from models.cnn_attention import *\n",
    "from models.cnn_gru import *\n",
    "from models.cnn_lstm import *\n",
    "from models.cnn_rnn import *\n",
    "\n",
    "%load_ext autoreload\n",
    "%autoreload 2"
   ]
  },
  {
   "cell_type": "code",
   "execution_count": 15,
   "metadata": {},
   "outputs": [],
   "source": [
    "## Set device\n",
    "\n",
    "# if torch.backends.mps.is_available():\n",
    "#     device = torch.device(\"mps\")\n",
    "# else:\n",
    "#     device = torch.device('cpu')\n",
    "# print(device)\n",
    "\n",
    "## When testing, use cpu\n",
    "device = torch.device('cpu')"
   ]
  },
  {
   "cell_type": "code",
   "execution_count": 16,
   "metadata": {},
   "outputs": [
    {
     "name": "stdout",
     "output_type": "stream",
     "text": [
      "Shape of training set: (14535, 22, 400)\n",
      "Shape of validation set: (500, 22, 400)\n",
      "Shape of training labels: (14535,)\n",
      "Shape of validation labels: (500,)\n",
      "Shape of training labels after categorical conversion: (14535, 4)\n",
      "Shape of validation labels after categorical conversion: (500, 4)\n",
      "Shape of test labels after categorical conversion: (443, 4)\n",
      "Shape of training set: (1602, 22, 400)\n",
      "Shape of validation set: (59, 22, 400)\n",
      "Shape of training labels: (1602,)\n",
      "Shape of validation labels: (59,)\n",
      "Shape of training labels after categorical conversion: (1602, 4)\n",
      "Shape of validation labels after categorical conversion: (59, 4)\n",
      "Shape of test labels after categorical conversion: (50, 4)\n"
     ]
    }
   ],
   "source": [
    "## Instantiate test dataloader for all\n",
    "_, _, test_dataloader_all = load_data(64)\n",
    "\n",
    "# ## Instantiate test dataloader for person 1\n",
    "_, _, test_dataloader_1 = load_data(64, one_person=True)"
   ]
  },
  {
   "cell_type": "markdown",
   "metadata": {},
   "source": [
    "## Trained on all subjects (0-800)"
   ]
  },
  {
   "cell_type": "code",
   "execution_count": 17,
   "metadata": {},
   "outputs": [],
   "source": [
    "## Instantiate models and load their weights\n",
    "models_800 = {}\n",
    "\n",
    "cnn = CNN(kernel_size=11, pad=5)\n",
    "checkpoint = torch.load('weights/all_subjects_800/CNN_epoch60.pt', map_location=torch.device('cpu'))\n",
    "cnn.load_state_dict(checkpoint['model_state_dict'])\n",
    "cnn = cnn.to(device)\n",
    "models_800['cnn'] = cnn\n",
    "\n",
    "# rnn = RNN(input_dim=22, conv_dims=[32, 64, 128, 256], hidden_dim=128, num_layers=1)\n",
    "# checkpoint = torch.load('weights/all_subjects_800/RNN_epoch46_400_800.pt', map_location=torch.device('cpu'))\n",
    "# rnn.load_state_dict(checkpoint['model_state_dict'])\n",
    "# rnn = rnn.to(device)\n",
    "# models_800['rnn'] = rnn\n",
    "\n",
    "# cnn_attention = CNN_Attention_Model()\n",
    "# checkpoint = torch.load('weights/all_subjects_800/Attention_epoch100.pt', map_location=torch.device('cpu'))\n",
    "# cnn_attention.load_state_dict(checkpoint['model_state_dict'])\n",
    "# cnn_attention = cnn_attention.to(device)\n",
    "# models_800['cnn_attention'] = cnn_attention\n",
    "\n",
    "gru = GRU(input_dim=22, conv_dims=[32, 64, 128], hidden_dim=256, num_layers=1)\n",
    "checkpoint = torch.load('weights/all_subjects_800/GRU_epoch18.pt', map_location=torch.device('cpu'))\n",
    "gru.load_state_dict(checkpoint['model_state_dict'])\n",
    "gru = gru.to(device)\n",
    "models_800['gru'] = gru\n",
    "\n",
    "lstm = LSTM(input_dim=22, conv_dims=[32, 64, 128], hidden_dim=64, num_layers=1)\n",
    "checkpoint = torch.load('weights/all_subjects_800/LSTM_epoch36.pt', map_location=torch.device('cpu'))\n",
    "lstm.load_state_dict(checkpoint['model_state_dict'])\n",
    "lstm = lstm.to(device)\n",
    "models_800['lstm'] = lstm"
   ]
  },
  {
   "cell_type": "markdown",
   "metadata": {},
   "source": [
    "### Test on all:"
   ]
  },
  {
   "cell_type": "code",
   "execution_count": 18,
   "metadata": {},
   "outputs": [
    {
     "name": "stdout",
     "output_type": "stream",
     "text": [
      "Test Accuracy (majority vote): 0.7020316027088036\n"
     ]
    }
   ],
   "source": [
    "## Evaluate ensembled models on test set\n",
    "\n",
    "# Average the probabilities\n",
    "# accuracy = test_average(models_800, test_dataloader, device)\n",
    "# print('Test Accuracy (average):', accuracy)\n",
    "\n",
    "# Majority vote\n",
    "accuracy = test_majority(models_800, test_dataloader_all, device)\n",
    "print('Test Accuracy (majority vote):', accuracy)"
   ]
  },
  {
   "cell_type": "markdown",
   "metadata": {},
   "source": [
    "### Test on person 1:"
   ]
  },
  {
   "cell_type": "code",
   "execution_count": 19,
   "metadata": {},
   "outputs": [
    {
     "name": "stdout",
     "output_type": "stream",
     "text": [
      "Test Accuracy (majority vote): 0.68\n"
     ]
    }
   ],
   "source": [
    "# Majority vote\n",
    "accuracy = test_majority(models_800, test_dataloader_1, device)\n",
    "print('Test Accuracy (majority vote):', accuracy)"
   ]
  },
  {
   "cell_type": "markdown",
   "metadata": {},
   "source": [
    "## Trained on person 1 (0-800)"
   ]
  },
  {
   "cell_type": "code",
   "execution_count": 20,
   "metadata": {},
   "outputs": [],
   "source": [
    "## Instantiate models and load their weights\n",
    "models_1 = {}\n",
    "\n",
    "cnn = CNN(kernel_size=11, pad=5)\n",
    "checkpoint = torch.load('weights/1_subject_800/CNN_epoch60_one_subject.pt', map_location=torch.device('cpu'))\n",
    "cnn.load_state_dict(checkpoint['model_state_dict'])\n",
    "cnn = cnn.to(device)\n",
    "models_1['cnn'] = cnn\n",
    "\n",
    "# rnn = RNN(input_dim=22, conv_dims=[32, 64, 128, 256], hidden_dim=128, num_layers=1)\n",
    "# checkpoint = torch.load('weights/1_subject_800/RNN_epoch61_one_subject.pt', map_location=torch.device('cpu'))\n",
    "# rnn.load_state_dict(checkpoint['model_state_dict'])\n",
    "# rnn = rnn.to(device)\n",
    "# models_1['rnn'] = rnn\n",
    "\n",
    "# cnn_attention = CNN_Attention_Model()\n",
    "# checkpoint = torch.load('weights/1_subject_800/Attention_epoch84_one_subject.pt', map_location=torch.device('cpu'))\n",
    "# cnn_attention.load_state_dict(checkpoint['model_state_dict'])\n",
    "# cnn_attention = cnn_attention.to(device)\n",
    "# models_1['cnn_attention'] = cnn_attention\n",
    "\n",
    "gru = GRU(input_dim=22, conv_dims=[32, 64, 128], hidden_dim=256, num_layers=1)\n",
    "checkpoint = torch.load('weights/1_subject_800/gru_epoch91_one_subject.pt', map_location=torch.device('cpu'))\n",
    "gru.load_state_dict(checkpoint['model_state_dict'])\n",
    "gru = gru.to(device)\n",
    "models_1['gru'] = gru\n",
    "\n",
    "lstm = LSTM(input_dim=22, conv_dims=[32, 64, 128], hidden_dim=64, num_layers=1)\n",
    "checkpoint = torch.load('weights/1_subject_800/LSTM_epoch99_one_subject.pt', map_location=torch.device('cpu'))\n",
    "lstm.load_state_dict(checkpoint['model_state_dict'])\n",
    "lstm = lstm.to(device)\n",
    "models_1['lstm'] = lstm"
   ]
  },
  {
   "cell_type": "markdown",
   "metadata": {},
   "source": [
    "### Test on person 1:"
   ]
  },
  {
   "cell_type": "code",
   "execution_count": 21,
   "metadata": {},
   "outputs": [
    {
     "name": "stdout",
     "output_type": "stream",
     "text": [
      "Test Accuracy (majority vote): 0.44\n"
     ]
    }
   ],
   "source": [
    "# Majority vote\n",
    "accuracy = test_majority(models_1, test_dataloader_1, device)\n",
    "print('Test Accuracy (majority vote):', accuracy)"
   ]
  },
  {
   "cell_type": "markdown",
   "metadata": {},
   "source": [
    "### Test on all:"
   ]
  },
  {
   "cell_type": "code",
   "execution_count": 22,
   "metadata": {},
   "outputs": [
    {
     "name": "stdout",
     "output_type": "stream",
     "text": [
      "Test Accuracy (majority vote): 0.38148984198645597\n"
     ]
    }
   ],
   "source": [
    "# Majority vote\n",
    "accuracy = test_majority(models_1, test_dataloader_all, device)\n",
    "print('Test Accuracy (majority vote):', accuracy)"
   ]
  },
  {
   "cell_type": "markdown",
   "metadata": {},
   "source": [
    "## Trained on all subjects (0-400)"
   ]
  },
  {
   "cell_type": "code",
   "execution_count": 25,
   "metadata": {},
   "outputs": [
    {
     "name": "stdout",
     "output_type": "stream",
     "text": [
      "Shape of training set: (14535, 22, 200)\n",
      "Shape of validation set: (500, 22, 200)\n",
      "Shape of training labels: (14535,)\n",
      "Shape of validation labels: (500,)\n",
      "Shape of training labels after categorical conversion: (14535, 4)\n",
      "Shape of validation labels after categorical conversion: (500, 4)\n",
      "Shape of test labels after categorical conversion: (443, 4)\n"
     ]
    }
   ],
   "source": [
    "# Before running, go to the preprocessing file, change 0:800 to 0:400 on lines 24, 121, 144.\n",
    "# Then change 0:400 to 0:200 on lines 53, 67, 74, 81, 90.\n",
    "# Then rerun the dataload\n",
    "\n",
    "## Instantiate test dataloader for all\n",
    "_, _, test_dataloader_all = load_data(64)"
   ]
  },
  {
   "cell_type": "code",
   "execution_count": 26,
   "metadata": {},
   "outputs": [],
   "source": [
    "## Instantiate models and load their weights\n",
    "models_400 = {}\n",
    "\n",
    "cnn = CNN(kernel_size=11, pad=5, in_length=200)\n",
    "checkpoint = torch.load('weights/all_subjects_400/CNN_epoch59_0_400.pt', map_location=torch.device('cpu'))\n",
    "cnn.load_state_dict(checkpoint['model_state_dict'])\n",
    "cnn = cnn.to(device)\n",
    "models_400['cnn'] = cnn\n",
    "\n",
    "# rnn = RNN(input_dim=22, conv_dims=[32, 64, 128, 256], hidden_dim=128, num_layers=1)\n",
    "# checkpoint = torch.load('weights/all_subjects_400/RNN_epoch65_0_400.pt', map_location=torch.device('cpu'))\n",
    "# rnn.load_state_dict(checkpoint['model_state_dict'])\n",
    "# rnn = rnn.to(device)\n",
    "# models_400['rnn'] = rnn\n",
    "\n",
    "# cnn_attention = CNN_Attention_Model()\n",
    "# checkpoint = torch.load('weights/all_subjects_400/Attention_epoch57_0_400.pt', map_location=torch.device('cpu'))\n",
    "# cnn_attention.load_state_dict(checkpoint['model_state_dict'])\n",
    "# cnn_attention = cnn_attention.to(device)\n",
    "# models_400['cnn_attention'] = cnn_attention\n",
    "\n",
    "gru = GRU(input_dim=22, conv_dims=[32, 64, 128], hidden_dim=256, num_layers=1)\n",
    "checkpoint = torch.load('weights/all_subjects_400/GRU_epoch60_0_400.pt', map_location=torch.device('cpu'))\n",
    "gru.load_state_dict(checkpoint['model_state_dict'])\n",
    "gru = gru.to(device)\n",
    "models_400['gru'] = gru\n",
    "\n",
    "lstm = LSTM(input_dim=22, conv_dims=[32, 64, 128], hidden_dim=64, num_layers=1, in_length=200)\n",
    "checkpoint = torch.load('weights/all_subjects_400/LSTM_epoch83_0_400.pt', map_location=torch.device('cpu'))\n",
    "lstm.load_state_dict(checkpoint['model_state_dict'])\n",
    "lstm = lstm.to(device)\n",
    "models_400['lstm'] = lstm"
   ]
  },
  {
   "cell_type": "markdown",
   "metadata": {},
   "source": [
    "### Test on all:"
   ]
  },
  {
   "cell_type": "code",
   "execution_count": 27,
   "metadata": {},
   "outputs": [
    {
     "name": "stdout",
     "output_type": "stream",
     "text": [
      "Test Accuracy (majority vote): 0.6952595936794582\n"
     ]
    }
   ],
   "source": [
    "# Majority vote\n",
    "accuracy = test_majority(models_400, test_dataloader_all, device)\n",
    "print('Test Accuracy (majority vote):', accuracy)"
   ]
  }
 ],
 "metadata": {
  "kernelspec": {
   "display_name": "env",
   "language": "python",
   "name": "python3"
  },
  "language_info": {
   "codemirror_mode": {
    "name": "ipython",
    "version": 3
   },
   "file_extension": ".py",
   "mimetype": "text/x-python",
   "name": "python",
   "nbconvert_exporter": "python",
   "pygments_lexer": "ipython3",
   "version": "3.9.6"
  }
 },
 "nbformat": 4,
 "nbformat_minor": 2
}
